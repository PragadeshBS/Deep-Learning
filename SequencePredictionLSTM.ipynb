{
  "nbformat": 4,
  "nbformat_minor": 0,
  "metadata": {
    "colab": {
      "provenance": [],
      "authorship_tag": "ABX9TyOUzpEU9rJyOWVE7sBmvPUY",
      "include_colab_link": true
    },
    "kernelspec": {
      "name": "python3",
      "display_name": "Python 3"
    },
    "language_info": {
      "name": "python"
    }
  },
  "cells": [
    {
      "cell_type": "markdown",
      "metadata": {
        "id": "view-in-github",
        "colab_type": "text"
      },
      "source": [
        "<a href=\"https://colab.research.google.com/github/PragadeshBS/Deep-Learning/blob/main/SequencePredictionLSTM.ipynb\" target=\"_parent\"><img src=\"https://colab.research.google.com/assets/colab-badge.svg\" alt=\"Open In Colab\"/></a>"
      ]
    },
    {
      "cell_type": "code",
      "execution_count": 23,
      "metadata": {
        "id": "L-bD8On2QASI"
      },
      "outputs": [],
      "source": [
        "import numpy as np"
      ]
    },
    {
      "cell_type": "code",
      "source": [
        "def splitSequence(seq, n_steps):\n",
        "    \n",
        "    #Declare X and y as empty list\n",
        "    X = []\n",
        "    y = []\n",
        "    \n",
        "    for i in range(len(seq)):\n",
        "        #get the last index\n",
        "        lastIndex = i + n_steps\n",
        "        \n",
        "        #if lastIndex is greater than length of sequence then break\n",
        "        if lastIndex > len(seq) - 1:\n",
        "            break\n",
        "            \n",
        "        #Create input and output sequence\n",
        "        seq_X, seq_y = seq[i:lastIndex], seq[lastIndex]\n",
        "        \n",
        "        #append seq_X, seq_y in X and y list\n",
        "        X.append(seq_X)\n",
        "        y.append(seq_y)\n",
        "    #Convert X and y into numpy array\n",
        "    X = np.array(X)\n",
        "    y = np.array(y)\n",
        "    \n",
        "    return X,y "
      ],
      "metadata": {
        "id": "7sZZXJNQQJNL"
      },
      "execution_count": 24,
      "outputs": []
    },
    {
      "cell_type": "code",
      "source": [
        "n_steps = 5\n",
        "data = [10*i for i in range(1, 20)]\n",
        "X, y = splitSequence(data, n_steps = 5)"
      ],
      "metadata": {
        "id": "Rc5Wcf82QeDp"
      },
      "execution_count": 25,
      "outputs": []
    },
    {
      "cell_type": "code",
      "source": [
        "X"
      ],
      "metadata": {
        "colab": {
          "base_uri": "https://localhost:8080/"
        },
        "id": "y5HbU-blQwfQ",
        "outputId": "0f674d69-02e7-49b5-d286-a53de133a73d"
      },
      "execution_count": 26,
      "outputs": [
        {
          "output_type": "execute_result",
          "data": {
            "text/plain": [
              "array([[ 10,  20,  30,  40,  50],\n",
              "       [ 20,  30,  40,  50,  60],\n",
              "       [ 30,  40,  50,  60,  70],\n",
              "       [ 40,  50,  60,  70,  80],\n",
              "       [ 50,  60,  70,  80,  90],\n",
              "       [ 60,  70,  80,  90, 100],\n",
              "       [ 70,  80,  90, 100, 110],\n",
              "       [ 80,  90, 100, 110, 120],\n",
              "       [ 90, 100, 110, 120, 130],\n",
              "       [100, 110, 120, 130, 140],\n",
              "       [110, 120, 130, 140, 150],\n",
              "       [120, 130, 140, 150, 160],\n",
              "       [130, 140, 150, 160, 170],\n",
              "       [140, 150, 160, 170, 180]])"
            ]
          },
          "metadata": {},
          "execution_count": 26
        }
      ]
    },
    {
      "cell_type": "code",
      "source": [
        "y"
      ],
      "metadata": {
        "colab": {
          "base_uri": "https://localhost:8080/"
        },
        "id": "gSO6U5vGQ01L",
        "outputId": "dc41de18-11c6-4b3b-ce33-a316dbc88820"
      },
      "execution_count": 27,
      "outputs": [
        {
          "output_type": "execute_result",
          "data": {
            "text/plain": [
              "array([ 60,  70,  80,  90, 100, 110, 120, 130, 140, 150, 160, 170, 180,\n",
              "       190])"
            ]
          },
          "metadata": {},
          "execution_count": 27
        }
      ]
    },
    {
      "cell_type": "code",
      "source": [
        "for i in range(len(X)):\n",
        "    print(X[i], y[i])"
      ],
      "metadata": {
        "colab": {
          "base_uri": "https://localhost:8080/"
        },
        "id": "Wj1f-J68Q17z",
        "outputId": "dcccc872-b84d-4d3a-f9ae-330fad7be85b"
      },
      "execution_count": 28,
      "outputs": [
        {
          "output_type": "stream",
          "name": "stdout",
          "text": [
            "[10 20 30 40 50] 60\n",
            "[20 30 40 50 60] 70\n",
            "[30 40 50 60 70] 80\n",
            "[40 50 60 70 80] 90\n",
            "[50 60 70 80 90] 100\n",
            "[ 60  70  80  90 100] 110\n",
            "[ 70  80  90 100 110] 120\n",
            "[ 80  90 100 110 120] 130\n",
            "[ 90 100 110 120 130] 140\n",
            "[100 110 120 130 140] 150\n",
            "[110 120 130 140 150] 160\n",
            "[120 130 140 150 160] 170\n",
            "[130 140 150 160 170] 180\n",
            "[140 150 160 170 180] 190\n"
          ]
        }
      ]
    },
    {
      "cell_type": "code",
      "source": [
        "# reshape from [samples, timesteps] into [samples, timesteps, features]\n",
        "\n",
        "n_features = 1\n",
        "X = X.reshape((X.shape[0], X.shape[1], n_features))\n",
        "X[:2]"
      ],
      "metadata": {
        "colab": {
          "base_uri": "https://localhost:8080/"
        },
        "id": "iJM5h6RZQ646",
        "outputId": "632bc720-4f14-4597-a29c-15354a83f9e1"
      },
      "execution_count": 29,
      "outputs": [
        {
          "output_type": "execute_result",
          "data": {
            "text/plain": [
              "array([[[10],\n",
              "        [20],\n",
              "        [30],\n",
              "        [40],\n",
              "        [50]],\n",
              "\n",
              "       [[20],\n",
              "        [30],\n",
              "        [40],\n",
              "        [50],\n",
              "        [60]]])"
            ]
          },
          "metadata": {},
          "execution_count": 29
        }
      ]
    },
    {
      "cell_type": "code",
      "source": [
        "import tensorflow as tf\n",
        "from tensorflow import keras\n",
        "from tensorflow.keras import layers"
      ],
      "metadata": {
        "id": "dX2v5RmmRIky"
      },
      "execution_count": 30,
      "outputs": []
    },
    {
      "cell_type": "code",
      "source": [
        "model = tf.keras.Sequential()\n",
        "model.add(layers.LSTM(50, activation='relu', input_shape=(n_steps, n_features)))\n",
        "model.add(layers.Dense(1))"
      ],
      "metadata": {
        "id": "EDqBYlIQRLRa"
      },
      "execution_count": 31,
      "outputs": []
    },
    {
      "cell_type": "code",
      "source": [
        "model.layers"
      ],
      "metadata": {
        "colab": {
          "base_uri": "https://localhost:8080/"
        },
        "id": "WCd7Z20URjrV",
        "outputId": "4df7597d-34ae-49ec-a487-cd368dccddb5"
      },
      "execution_count": 32,
      "outputs": [
        {
          "output_type": "execute_result",
          "data": {
            "text/plain": [
              "[<keras.layers.rnn.lstm.LSTM at 0x7fa01269a7d0>,\n",
              " <keras.layers.core.dense.Dense at 0x7fa01269a410>]"
            ]
          },
          "metadata": {},
          "execution_count": 32
        }
      ]
    },
    {
      "cell_type": "code",
      "source": [
        "model.summary()"
      ],
      "metadata": {
        "colab": {
          "base_uri": "https://localhost:8080/"
        },
        "id": "BRFuiMgIRlST",
        "outputId": "5c39950c-3993-4c68-de4f-e070ef90f123"
      },
      "execution_count": 33,
      "outputs": [
        {
          "output_type": "stream",
          "name": "stdout",
          "text": [
            "Model: \"sequential_1\"\n",
            "_________________________________________________________________\n",
            " Layer (type)                Output Shape              Param #   \n",
            "=================================================================\n",
            " lstm_1 (LSTM)               (None, 50)                10400     \n",
            "                                                                 \n",
            " dense_1 (Dense)             (None, 1)                 51        \n",
            "                                                                 \n",
            "=================================================================\n",
            "Total params: 10,451\n",
            "Trainable params: 10,451\n",
            "Non-trainable params: 0\n",
            "_________________________________________________________________\n"
          ]
        }
      ]
    },
    {
      "cell_type": "code",
      "source": [
        "model.compile(optimizer=tf.keras.optimizers.Adam(0.01),\n",
        "loss=tf.keras.losses.MeanSquaredError(), metrics=['accuracy'])"
      ],
      "metadata": {
        "id": "-hyZcLk0Rp4o"
      },
      "execution_count": 34,
      "outputs": []
    },
    {
      "cell_type": "code",
      "source": [
        "model.fit(X, y, epochs=200, verbose=1)"
      ],
      "metadata": {
        "colab": {
          "base_uri": "https://localhost:8080/"
        },
        "id": "MV0QJwPpRwOh",
        "outputId": "89d9ff60-d7a8-41d2-ae6c-b3a64ea14549"
      },
      "execution_count": 35,
      "outputs": [
        {
          "output_type": "stream",
          "name": "stdout",
          "text": [
            "Epoch 1/200\n",
            "1/1 [==============================] - 1s 1s/step - loss: 19051.6816 - accuracy: 0.0000e+00\n",
            "Epoch 2/200\n",
            "1/1 [==============================] - 0s 13ms/step - loss: 17471.8457 - accuracy: 0.0000e+00\n",
            "Epoch 3/200\n",
            "1/1 [==============================] - 0s 12ms/step - loss: 16731.1465 - accuracy: 0.0000e+00\n",
            "Epoch 4/200\n",
            "1/1 [==============================] - 0s 10ms/step - loss: 16310.2295 - accuracy: 0.0000e+00\n",
            "Epoch 5/200\n",
            "1/1 [==============================] - 0s 13ms/step - loss: 15758.0996 - accuracy: 0.0000e+00\n",
            "Epoch 6/200\n",
            "1/1 [==============================] - 0s 9ms/step - loss: 13160.9297 - accuracy: 0.0000e+00\n",
            "Epoch 7/200\n",
            "1/1 [==============================] - 0s 11ms/step - loss: 197.2612 - accuracy: 0.0000e+00\n",
            "Epoch 8/200\n",
            "1/1 [==============================] - 0s 8ms/step - loss: 788.0084 - accuracy: 0.0000e+00\n",
            "Epoch 9/200\n",
            "1/1 [==============================] - 0s 8ms/step - loss: 162.8200 - accuracy: 0.0000e+00\n",
            "Epoch 10/200\n",
            "1/1 [==============================] - 0s 8ms/step - loss: 97.2310 - accuracy: 0.0000e+00\n",
            "Epoch 11/200\n",
            "1/1 [==============================] - 0s 9ms/step - loss: 215.6493 - accuracy: 0.0000e+00\n",
            "Epoch 12/200\n",
            "1/1 [==============================] - 0s 8ms/step - loss: 215.8692 - accuracy: 0.0000e+00\n",
            "Epoch 13/200\n",
            "1/1 [==============================] - 0s 9ms/step - loss: 113.6671 - accuracy: 0.0000e+00\n",
            "Epoch 14/200\n",
            "1/1 [==============================] - 0s 12ms/step - loss: 20.8900 - accuracy: 0.0000e+00\n",
            "Epoch 15/200\n",
            "1/1 [==============================] - 0s 8ms/step - loss: 170.7739 - accuracy: 0.0000e+00\n",
            "Epoch 16/200\n",
            "1/1 [==============================] - 0s 13ms/step - loss: 50.6678 - accuracy: 0.0000e+00\n",
            "Epoch 17/200\n",
            "1/1 [==============================] - 0s 10ms/step - loss: 16.8376 - accuracy: 0.0000e+00\n",
            "Epoch 18/200\n",
            "1/1 [==============================] - 0s 10ms/step - loss: 46.6663 - accuracy: 0.0000e+00\n",
            "Epoch 19/200\n",
            "1/1 [==============================] - 0s 9ms/step - loss: 73.2847 - accuracy: 0.0000e+00\n",
            "Epoch 20/200\n",
            "1/1 [==============================] - 0s 10ms/step - loss: 66.7385 - accuracy: 0.0000e+00\n",
            "Epoch 21/200\n",
            "1/1 [==============================] - 0s 11ms/step - loss: 38.2571 - accuracy: 0.0000e+00\n",
            "Epoch 22/200\n",
            "1/1 [==============================] - 0s 10ms/step - loss: 19.8725 - accuracy: 0.0000e+00\n",
            "Epoch 23/200\n",
            "1/1 [==============================] - 0s 12ms/step - loss: 31.5881 - accuracy: 0.0000e+00\n",
            "Epoch 24/200\n",
            "1/1 [==============================] - 0s 8ms/step - loss: 53.3320 - accuracy: 0.0000e+00\n",
            "Epoch 25/200\n",
            "1/1 [==============================] - 0s 52ms/step - loss: 33.7587 - accuracy: 0.0000e+00\n",
            "Epoch 26/200\n",
            "1/1 [==============================] - 0s 9ms/step - loss: 9.6594 - accuracy: 0.0000e+00\n",
            "Epoch 27/200\n",
            "1/1 [==============================] - 0s 11ms/step - loss: 17.4443 - accuracy: 0.0000e+00\n",
            "Epoch 28/200\n",
            "1/1 [==============================] - 0s 11ms/step - loss: 31.0774 - accuracy: 0.0000e+00\n",
            "Epoch 29/200\n",
            "1/1 [==============================] - 0s 12ms/step - loss: 25.4866 - accuracy: 0.0000e+00\n",
            "Epoch 30/200\n",
            "1/1 [==============================] - 0s 11ms/step - loss: 6.9665 - accuracy: 0.0000e+00\n",
            "Epoch 31/200\n",
            "1/1 [==============================] - 0s 9ms/step - loss: 12.1423 - accuracy: 0.0000e+00\n",
            "Epoch 32/200\n",
            "1/1 [==============================] - 0s 11ms/step - loss: 24.6072 - accuracy: 0.0000e+00\n",
            "Epoch 33/200\n",
            "1/1 [==============================] - 0s 9ms/step - loss: 3.9298 - accuracy: 0.0000e+00\n",
            "Epoch 34/200\n",
            "1/1 [==============================] - 0s 13ms/step - loss: 8.7170 - accuracy: 0.0000e+00\n",
            "Epoch 35/200\n",
            "1/1 [==============================] - 0s 8ms/step - loss: 17.1278 - accuracy: 0.0000e+00\n",
            "Epoch 36/200\n",
            "1/1 [==============================] - 0s 11ms/step - loss: 10.8658 - accuracy: 0.0000e+00\n",
            "Epoch 37/200\n",
            "1/1 [==============================] - 0s 9ms/step - loss: 4.2164 - accuracy: 0.0000e+00\n",
            "Epoch 38/200\n",
            "1/1 [==============================] - 0s 10ms/step - loss: 10.1313 - accuracy: 0.0000e+00\n",
            "Epoch 39/200\n",
            "1/1 [==============================] - 0s 10ms/step - loss: 12.9957 - accuracy: 0.0000e+00\n",
            "Epoch 40/200\n",
            "1/1 [==============================] - 0s 9ms/step - loss: 4.2183 - accuracy: 0.0000e+00\n",
            "Epoch 41/200\n",
            "1/1 [==============================] - 0s 9ms/step - loss: 12.3975 - accuracy: 0.0000e+00\n",
            "Epoch 42/200\n",
            "1/1 [==============================] - 0s 9ms/step - loss: 6.2372 - accuracy: 0.0000e+00\n",
            "Epoch 43/200\n",
            "1/1 [==============================] - 0s 9ms/step - loss: 2.8941 - accuracy: 0.0000e+00\n",
            "Epoch 44/200\n",
            "1/1 [==============================] - 0s 9ms/step - loss: 5.6069 - accuracy: 0.0000e+00\n",
            "Epoch 45/200\n",
            "1/1 [==============================] - 0s 9ms/step - loss: 1.8098 - accuracy: 0.0000e+00\n",
            "Epoch 46/200\n",
            "1/1 [==============================] - 0s 9ms/step - loss: 2.0353 - accuracy: 0.0000e+00\n",
            "Epoch 47/200\n",
            "1/1 [==============================] - 0s 9ms/step - loss: 4.1175 - accuracy: 0.0000e+00\n",
            "Epoch 48/200\n",
            "1/1 [==============================] - 0s 9ms/step - loss: 1.6263 - accuracy: 0.0000e+00\n",
            "Epoch 49/200\n",
            "1/1 [==============================] - 0s 9ms/step - loss: 1.9336 - accuracy: 0.0000e+00\n",
            "Epoch 50/200\n",
            "1/1 [==============================] - 0s 9ms/step - loss: 3.3572 - accuracy: 0.0000e+00\n",
            "Epoch 51/200\n",
            "1/1 [==============================] - 0s 9ms/step - loss: 0.8200 - accuracy: 0.0000e+00\n",
            "Epoch 52/200\n",
            "1/1 [==============================] - 0s 9ms/step - loss: 2.3312 - accuracy: 0.0000e+00\n",
            "Epoch 53/200\n",
            "1/1 [==============================] - 0s 8ms/step - loss: 1.9063 - accuracy: 0.0000e+00\n",
            "Epoch 54/200\n",
            "1/1 [==============================] - 0s 9ms/step - loss: 0.5825 - accuracy: 0.0000e+00\n",
            "Epoch 55/200\n",
            "1/1 [==============================] - 0s 9ms/step - loss: 2.1194 - accuracy: 0.0000e+00\n",
            "Epoch 56/200\n",
            "1/1 [==============================] - 0s 14ms/step - loss: 0.8439 - accuracy: 0.0000e+00\n",
            "Epoch 57/200\n",
            "1/1 [==============================] - 0s 10ms/step - loss: 1.0443 - accuracy: 0.0000e+00\n",
            "Epoch 58/200\n",
            "1/1 [==============================] - 0s 8ms/step - loss: 1.6623 - accuracy: 0.0000e+00\n",
            "Epoch 59/200\n",
            "1/1 [==============================] - 0s 9ms/step - loss: 0.6433 - accuracy: 0.0000e+00\n",
            "Epoch 60/200\n",
            "1/1 [==============================] - 0s 24ms/step - loss: 1.2702 - accuracy: 0.0000e+00\n",
            "Epoch 61/200\n",
            "1/1 [==============================] - 0s 11ms/step - loss: 1.1252 - accuracy: 0.0000e+00\n",
            "Epoch 62/200\n",
            "1/1 [==============================] - 0s 12ms/step - loss: 0.5770 - accuracy: 0.0000e+00\n",
            "Epoch 63/200\n",
            "1/1 [==============================] - 0s 12ms/step - loss: 1.2683 - accuracy: 0.0000e+00\n",
            "Epoch 64/200\n",
            "1/1 [==============================] - 0s 11ms/step - loss: 0.5741 - accuracy: 0.0000e+00\n",
            "Epoch 65/200\n",
            "1/1 [==============================] - 0s 9ms/step - loss: 0.8118 - accuracy: 0.0000e+00\n",
            "Epoch 66/200\n",
            "1/1 [==============================] - 0s 16ms/step - loss: 0.9099 - accuracy: 0.0000e+00\n",
            "Epoch 67/200\n",
            "1/1 [==============================] - 0s 14ms/step - loss: 0.4897 - accuracy: 0.0000e+00\n",
            "Epoch 68/200\n",
            "1/1 [==============================] - 0s 10ms/step - loss: 0.8676 - accuracy: 0.0000e+00\n",
            "Epoch 69/200\n",
            "1/1 [==============================] - 0s 9ms/step - loss: 0.5310 - accuracy: 0.0000e+00\n",
            "Epoch 70/200\n",
            "1/1 [==============================] - 0s 12ms/step - loss: 0.6028 - accuracy: 0.0000e+00\n",
            "Epoch 71/200\n",
            "1/1 [==============================] - 0s 10ms/step - loss: 0.6940 - accuracy: 0.0000e+00\n",
            "Epoch 72/200\n",
            "1/1 [==============================] - 0s 13ms/step - loss: 0.4146 - accuracy: 0.0000e+00\n",
            "Epoch 73/200\n",
            "1/1 [==============================] - 0s 9ms/step - loss: 0.6560 - accuracy: 0.0000e+00\n",
            "Epoch 74/200\n",
            "1/1 [==============================] - 0s 10ms/step - loss: 0.4350 - accuracy: 0.0000e+00\n",
            "Epoch 75/200\n",
            "1/1 [==============================] - 0s 18ms/step - loss: 0.4781 - accuracy: 0.0000e+00\n",
            "Epoch 76/200\n",
            "1/1 [==============================] - 0s 13ms/step - loss: 0.5187 - accuracy: 0.0000e+00\n",
            "Epoch 77/200\n",
            "1/1 [==============================] - 0s 9ms/step - loss: 0.3621 - accuracy: 0.0000e+00\n",
            "Epoch 78/200\n",
            "1/1 [==============================] - 0s 9ms/step - loss: 0.5075 - accuracy: 0.0000e+00\n",
            "Epoch 79/200\n",
            "1/1 [==============================] - 0s 15ms/step - loss: 0.3679 - accuracy: 0.0000e+00\n",
            "Epoch 80/200\n",
            "1/1 [==============================] - 0s 11ms/step - loss: 0.4086 - accuracy: 0.0000e+00\n",
            "Epoch 81/200\n",
            "1/1 [==============================] - 0s 15ms/step - loss: 0.4127 - accuracy: 0.0000e+00\n",
            "Epoch 82/200\n",
            "1/1 [==============================] - 0s 16ms/step - loss: 0.3282 - accuracy: 0.0000e+00\n",
            "Epoch 83/200\n",
            "1/1 [==============================] - 0s 13ms/step - loss: 0.4089 - accuracy: 0.0000e+00\n",
            "Epoch 84/200\n",
            "1/1 [==============================] - 0s 12ms/step - loss: 0.3093 - accuracy: 0.0000e+00\n",
            "Epoch 85/200\n",
            "1/1 [==============================] - 0s 14ms/step - loss: 0.3542 - accuracy: 0.0000e+00\n",
            "Epoch 86/200\n",
            "1/1 [==============================] - 0s 11ms/step - loss: 0.3223 - accuracy: 0.0000e+00\n",
            "Epoch 87/200\n",
            "1/1 [==============================] - 0s 12ms/step - loss: 0.2955 - accuracy: 0.0000e+00\n",
            "Epoch 88/200\n",
            "1/1 [==============================] - 0s 11ms/step - loss: 0.3247 - accuracy: 0.0000e+00\n",
            "Epoch 89/200\n",
            "1/1 [==============================] - 0s 8ms/step - loss: 0.2613 - accuracy: 0.0000e+00\n",
            "Epoch 90/200\n",
            "1/1 [==============================] - 0s 10ms/step - loss: 0.3019 - accuracy: 0.0000e+00\n",
            "Epoch 91/200\n",
            "1/1 [==============================] - 0s 10ms/step - loss: 0.2500 - accuracy: 0.0000e+00\n",
            "Epoch 92/200\n",
            "1/1 [==============================] - 0s 10ms/step - loss: 0.2644 - accuracy: 0.0000e+00\n",
            "Epoch 93/200\n",
            "1/1 [==============================] - 0s 10ms/step - loss: 0.2459 - accuracy: 0.0000e+00\n",
            "Epoch 94/200\n",
            "1/1 [==============================] - 0s 21ms/step - loss: 0.2298 - accuracy: 0.0000e+00\n",
            "Epoch 95/200\n",
            "1/1 [==============================] - 0s 11ms/step - loss: 0.2377 - accuracy: 0.0000e+00\n",
            "Epoch 96/200\n",
            "1/1 [==============================] - 0s 14ms/step - loss: 0.2060 - accuracy: 0.0000e+00\n",
            "Epoch 97/200\n",
            "1/1 [==============================] - 0s 9ms/step - loss: 0.2223 - accuracy: 0.0000e+00\n",
            "Epoch 98/200\n",
            "1/1 [==============================] - 0s 11ms/step - loss: 0.1907 - accuracy: 0.0000e+00\n",
            "Epoch 99/200\n",
            "1/1 [==============================] - 0s 12ms/step - loss: 0.2028 - accuracy: 0.0000e+00\n",
            "Epoch 100/200\n",
            "1/1 [==============================] - 0s 9ms/step - loss: 0.1797 - accuracy: 0.0000e+00\n",
            "Epoch 101/200\n",
            "1/1 [==============================] - 0s 13ms/step - loss: 0.1819 - accuracy: 0.0000e+00\n",
            "Epoch 102/200\n",
            "1/1 [==============================] - 0s 11ms/step - loss: 0.1697 - accuracy: 0.0000e+00\n",
            "Epoch 103/200\n",
            "1/1 [==============================] - 0s 13ms/step - loss: 0.1630 - accuracy: 0.0000e+00\n",
            "Epoch 104/200\n",
            "1/1 [==============================] - 0s 10ms/step - loss: 0.1590 - accuracy: 0.0000e+00\n",
            "Epoch 105/200\n",
            "1/1 [==============================] - 0s 12ms/step - loss: 0.1467 - accuracy: 0.0000e+00\n",
            "Epoch 106/200\n",
            "1/1 [==============================] - 0s 12ms/step - loss: 0.1472 - accuracy: 0.0000e+00\n",
            "Epoch 107/200\n",
            "1/1 [==============================] - 0s 9ms/step - loss: 0.1331 - accuracy: 0.0000e+00\n",
            "Epoch 108/200\n",
            "1/1 [==============================] - 0s 9ms/step - loss: 0.1354 - accuracy: 0.0000e+00\n",
            "Epoch 109/200\n",
            "1/1 [==============================] - 0s 11ms/step - loss: 0.1219 - accuracy: 0.0000e+00\n",
            "Epoch 110/200\n",
            "1/1 [==============================] - 0s 10ms/step - loss: 0.1237 - accuracy: 0.0000e+00\n",
            "Epoch 111/200\n",
            "1/1 [==============================] - 0s 11ms/step - loss: 0.1121 - accuracy: 0.0000e+00\n",
            "Epoch 112/200\n",
            "1/1 [==============================] - 0s 9ms/step - loss: 0.1128 - accuracy: 0.0000e+00\n",
            "Epoch 113/200\n",
            "1/1 [==============================] - 0s 23ms/step - loss: 0.1035 - accuracy: 0.0000e+00\n",
            "Epoch 114/200\n",
            "1/1 [==============================] - 0s 25ms/step - loss: 0.1027 - accuracy: 0.0000e+00\n",
            "Epoch 115/200\n",
            "1/1 [==============================] - 0s 12ms/step - loss: 0.0957 - accuracy: 0.0000e+00\n",
            "Epoch 116/200\n",
            "1/1 [==============================] - 0s 11ms/step - loss: 0.0938 - accuracy: 0.0000e+00\n",
            "Epoch 117/200\n",
            "1/1 [==============================] - 0s 10ms/step - loss: 0.0886 - accuracy: 0.0000e+00\n",
            "Epoch 118/200\n",
            "1/1 [==============================] - 0s 11ms/step - loss: 0.0857 - accuracy: 0.0000e+00\n",
            "Epoch 119/200\n",
            "1/1 [==============================] - 0s 9ms/step - loss: 0.0818 - accuracy: 0.0000e+00\n",
            "Epoch 120/200\n",
            "1/1 [==============================] - 0s 10ms/step - loss: 0.0784 - accuracy: 0.0000e+00\n",
            "Epoch 121/200\n",
            "1/1 [==============================] - 0s 16ms/step - loss: 0.0754 - accuracy: 0.0000e+00\n",
            "Epoch 122/200\n",
            "1/1 [==============================] - 0s 12ms/step - loss: 0.0718 - accuracy: 0.0000e+00\n",
            "Epoch 123/200\n",
            "1/1 [==============================] - 0s 9ms/step - loss: 0.0694 - accuracy: 0.0000e+00\n",
            "Epoch 124/200\n",
            "1/1 [==============================] - 0s 11ms/step - loss: 0.0659 - accuracy: 0.0000e+00\n",
            "Epoch 125/200\n",
            "1/1 [==============================] - 0s 9ms/step - loss: 0.0639 - accuracy: 0.0000e+00\n",
            "Epoch 126/200\n",
            "1/1 [==============================] - 0s 12ms/step - loss: 0.0606 - accuracy: 0.0000e+00\n",
            "Epoch 127/200\n",
            "1/1 [==============================] - 0s 9ms/step - loss: 0.0589 - accuracy: 0.0000e+00\n",
            "Epoch 128/200\n",
            "1/1 [==============================] - 0s 9ms/step - loss: 0.0560 - accuracy: 0.0000e+00\n",
            "Epoch 129/200\n",
            "1/1 [==============================] - 0s 9ms/step - loss: 0.0546 - accuracy: 0.0000e+00\n",
            "Epoch 130/200\n",
            "1/1 [==============================] - 0s 9ms/step - loss: 0.0520 - accuracy: 0.0000e+00\n",
            "Epoch 131/200\n",
            "1/1 [==============================] - 0s 9ms/step - loss: 0.0507 - accuracy: 0.0000e+00\n",
            "Epoch 132/200\n",
            "1/1 [==============================] - 0s 9ms/step - loss: 0.0484 - accuracy: 0.0000e+00\n",
            "Epoch 133/200\n",
            "1/1 [==============================] - 0s 11ms/step - loss: 0.0473 - accuracy: 0.0000e+00\n",
            "Epoch 134/200\n",
            "1/1 [==============================] - 0s 9ms/step - loss: 0.0453 - accuracy: 0.0000e+00\n",
            "Epoch 135/200\n",
            "1/1 [==============================] - 0s 10ms/step - loss: 0.0443 - accuracy: 0.0000e+00\n",
            "Epoch 136/200\n",
            "1/1 [==============================] - 0s 10ms/step - loss: 0.0426 - accuracy: 0.0000e+00\n",
            "Epoch 137/200\n",
            "1/1 [==============================] - 0s 11ms/step - loss: 0.0416 - accuracy: 0.0000e+00\n",
            "Epoch 138/200\n",
            "1/1 [==============================] - 0s 13ms/step - loss: 0.0401 - accuracy: 0.0000e+00\n",
            "Epoch 139/200\n",
            "1/1 [==============================] - 0s 12ms/step - loss: 0.0392 - accuracy: 0.0000e+00\n",
            "Epoch 140/200\n",
            "1/1 [==============================] - 0s 13ms/step - loss: 0.0380 - accuracy: 0.0000e+00\n",
            "Epoch 141/200\n",
            "1/1 [==============================] - 0s 10ms/step - loss: 0.0372 - accuracy: 0.0000e+00\n",
            "Epoch 142/200\n",
            "1/1 [==============================] - 0s 10ms/step - loss: 0.0361 - accuracy: 0.0000e+00\n",
            "Epoch 143/200\n",
            "1/1 [==============================] - 0s 9ms/step - loss: 0.0353 - accuracy: 0.0000e+00\n",
            "Epoch 144/200\n",
            "1/1 [==============================] - 0s 9ms/step - loss: 0.0344 - accuracy: 0.0000e+00\n",
            "Epoch 145/200\n",
            "1/1 [==============================] - 0s 9ms/step - loss: 0.0337 - accuracy: 0.0000e+00\n",
            "Epoch 146/200\n",
            "1/1 [==============================] - 0s 9ms/step - loss: 0.0329 - accuracy: 0.0000e+00\n",
            "Epoch 147/200\n",
            "1/1 [==============================] - 0s 9ms/step - loss: 0.0322 - accuracy: 0.0000e+00\n",
            "Epoch 148/200\n",
            "1/1 [==============================] - 0s 8ms/step - loss: 0.0315 - accuracy: 0.0000e+00\n",
            "Epoch 149/200\n",
            "1/1 [==============================] - 0s 30ms/step - loss: 0.0308 - accuracy: 0.0000e+00\n",
            "Epoch 150/200\n",
            "1/1 [==============================] - 0s 74ms/step - loss: 0.0302 - accuracy: 0.0000e+00\n",
            "Epoch 151/200\n",
            "1/1 [==============================] - 0s 15ms/step - loss: 0.0296 - accuracy: 0.0000e+00\n",
            "Epoch 152/200\n",
            "1/1 [==============================] - 0s 12ms/step - loss: 0.0291 - accuracy: 0.0000e+00\n",
            "Epoch 153/200\n",
            "1/1 [==============================] - 0s 14ms/step - loss: 0.0285 - accuracy: 0.0000e+00\n",
            "Epoch 154/200\n",
            "1/1 [==============================] - 0s 12ms/step - loss: 0.0280 - accuracy: 0.0000e+00\n",
            "Epoch 155/200\n",
            "1/1 [==============================] - 0s 11ms/step - loss: 0.0274 - accuracy: 0.0000e+00\n",
            "Epoch 156/200\n",
            "1/1 [==============================] - 0s 10ms/step - loss: 0.0270 - accuracy: 0.0000e+00\n",
            "Epoch 157/200\n",
            "1/1 [==============================] - 0s 13ms/step - loss: 0.0265 - accuracy: 0.0000e+00\n",
            "Epoch 158/200\n",
            "1/1 [==============================] - 0s 9ms/step - loss: 0.0261 - accuracy: 0.0000e+00\n",
            "Epoch 159/200\n",
            "1/1 [==============================] - 0s 9ms/step - loss: 0.0256 - accuracy: 0.0000e+00\n",
            "Epoch 160/200\n",
            "1/1 [==============================] - 0s 9ms/step - loss: 0.0253 - accuracy: 0.0000e+00\n",
            "Epoch 161/200\n",
            "1/1 [==============================] - 0s 10ms/step - loss: 0.0248 - accuracy: 0.0000e+00\n",
            "Epoch 162/200\n",
            "1/1 [==============================] - 0s 9ms/step - loss: 0.0245 - accuracy: 0.0000e+00\n",
            "Epoch 163/200\n",
            "1/1 [==============================] - 0s 9ms/step - loss: 0.0241 - accuracy: 0.0000e+00\n",
            "Epoch 164/200\n",
            "1/1 [==============================] - 0s 9ms/step - loss: 0.0238 - accuracy: 0.0000e+00\n",
            "Epoch 165/200\n",
            "1/1 [==============================] - 0s 9ms/step - loss: 0.0234 - accuracy: 0.0000e+00\n",
            "Epoch 166/200\n",
            "1/1 [==============================] - 0s 11ms/step - loss: 0.0231 - accuracy: 0.0000e+00\n",
            "Epoch 167/200\n",
            "1/1 [==============================] - 0s 10ms/step - loss: 0.0228 - accuracy: 0.0000e+00\n",
            "Epoch 168/200\n",
            "1/1 [==============================] - 0s 8ms/step - loss: 0.0225 - accuracy: 0.0000e+00\n",
            "Epoch 169/200\n",
            "1/1 [==============================] - 0s 8ms/step - loss: 0.0222 - accuracy: 0.0000e+00\n",
            "Epoch 170/200\n",
            "1/1 [==============================] - 0s 9ms/step - loss: 0.0219 - accuracy: 0.0000e+00\n",
            "Epoch 171/200\n",
            "1/1 [==============================] - 0s 9ms/step - loss: 0.0217 - accuracy: 0.0000e+00\n",
            "Epoch 172/200\n",
            "1/1 [==============================] - 0s 7ms/step - loss: 0.0214 - accuracy: 0.0000e+00\n",
            "Epoch 173/200\n",
            "1/1 [==============================] - 0s 8ms/step - loss: 0.0211 - accuracy: 0.0000e+00\n",
            "Epoch 174/200\n",
            "1/1 [==============================] - 0s 9ms/step - loss: 0.0209 - accuracy: 0.0000e+00\n",
            "Epoch 175/200\n",
            "1/1 [==============================] - 0s 8ms/step - loss: 0.0206 - accuracy: 0.0000e+00\n",
            "Epoch 176/200\n",
            "1/1 [==============================] - 0s 9ms/step - loss: 0.0204 - accuracy: 0.0000e+00\n",
            "Epoch 177/200\n",
            "1/1 [==============================] - 0s 10ms/step - loss: 0.0201 - accuracy: 0.0000e+00\n",
            "Epoch 178/200\n",
            "1/1 [==============================] - 0s 8ms/step - loss: 0.0199 - accuracy: 0.0000e+00\n",
            "Epoch 179/200\n",
            "1/1 [==============================] - 0s 8ms/step - loss: 0.0196 - accuracy: 0.0000e+00\n",
            "Epoch 180/200\n",
            "1/1 [==============================] - 0s 9ms/step - loss: 0.0194 - accuracy: 0.0000e+00\n",
            "Epoch 181/200\n",
            "1/1 [==============================] - 0s 9ms/step - loss: 0.0192 - accuracy: 0.0000e+00\n",
            "Epoch 182/200\n",
            "1/1 [==============================] - 0s 9ms/step - loss: 0.0190 - accuracy: 0.0000e+00\n",
            "Epoch 183/200\n",
            "1/1 [==============================] - 0s 9ms/step - loss: 0.0188 - accuracy: 0.0000e+00\n",
            "Epoch 184/200\n",
            "1/1 [==============================] - 0s 10ms/step - loss: 0.0186 - accuracy: 0.0000e+00\n",
            "Epoch 185/200\n",
            "1/1 [==============================] - 0s 9ms/step - loss: 0.0183 - accuracy: 0.0000e+00\n",
            "Epoch 186/200\n",
            "1/1 [==============================] - 0s 10ms/step - loss: 0.0181 - accuracy: 0.0000e+00\n",
            "Epoch 187/200\n",
            "1/1 [==============================] - 0s 10ms/step - loss: 0.0179 - accuracy: 0.0000e+00\n",
            "Epoch 188/200\n",
            "1/1 [==============================] - 0s 9ms/step - loss: 0.0177 - accuracy: 0.0000e+00\n",
            "Epoch 189/200\n",
            "1/1 [==============================] - 0s 9ms/step - loss: 0.0175 - accuracy: 0.0000e+00\n",
            "Epoch 190/200\n",
            "1/1 [==============================] - 0s 10ms/step - loss: 0.0173 - accuracy: 0.0000e+00\n",
            "Epoch 191/200\n",
            "1/1 [==============================] - 0s 10ms/step - loss: 0.0172 - accuracy: 0.0000e+00\n",
            "Epoch 192/200\n",
            "1/1 [==============================] - 0s 10ms/step - loss: 0.0170 - accuracy: 0.0000e+00\n",
            "Epoch 193/200\n",
            "1/1 [==============================] - 0s 11ms/step - loss: 0.0168 - accuracy: 0.0000e+00\n",
            "Epoch 194/200\n",
            "1/1 [==============================] - 0s 9ms/step - loss: 0.0166 - accuracy: 0.0000e+00\n",
            "Epoch 195/200\n",
            "1/1 [==============================] - 0s 10ms/step - loss: 0.0164 - accuracy: 0.0000e+00\n",
            "Epoch 196/200\n",
            "1/1 [==============================] - 0s 9ms/step - loss: 0.0162 - accuracy: 0.0000e+00\n",
            "Epoch 197/200\n",
            "1/1 [==============================] - 0s 9ms/step - loss: 0.0161 - accuracy: 0.0000e+00\n",
            "Epoch 198/200\n",
            "1/1 [==============================] - 0s 15ms/step - loss: 0.0159 - accuracy: 0.0000e+00\n",
            "Epoch 199/200\n",
            "1/1 [==============================] - 0s 138ms/step - loss: 0.0157 - accuracy: 0.0000e+00\n",
            "Epoch 200/200\n",
            "1/1 [==============================] - 0s 11ms/step - loss: 0.0155 - accuracy: 0.0000e+00\n"
          ]
        },
        {
          "output_type": "execute_result",
          "data": {
            "text/plain": [
              "<keras.callbacks.History at 0x7fa012495910>"
            ]
          },
          "metadata": {},
          "execution_count": 35
        }
      ]
    },
    {
      "cell_type": "code",
      "source": [
        "test_data = np.array([90, 100, 110, 120, 130])\n",
        "test_data = test_data.reshape((1, n_steps, n_features))\n",
        "test_data"
      ],
      "metadata": {
        "colab": {
          "base_uri": "https://localhost:8080/"
        },
        "id": "GWtcZ9XjR5DP",
        "outputId": "d34e0b58-1a07-4bfb-a8c9-c0368480c93c"
      },
      "execution_count": 36,
      "outputs": [
        {
          "output_type": "execute_result",
          "data": {
            "text/plain": [
              "array([[[ 90],\n",
              "        [100],\n",
              "        [110],\n",
              "        [120],\n",
              "        [130]]])"
            ]
          },
          "metadata": {},
          "execution_count": 36
        }
      ]
    },
    {
      "cell_type": "code",
      "source": [
        "predictNextNumber = model.predict(test_data, verbose=1)\n",
        "print(predictNextNumber)"
      ],
      "metadata": {
        "colab": {
          "base_uri": "https://localhost:8080/"
        },
        "id": "EL7FYj4aR7pD",
        "outputId": "9ec58c29-2ae1-4aa0-dbe2-3f7959f48201"
      },
      "execution_count": 37,
      "outputs": [
        {
          "output_type": "stream",
          "name": "stdout",
          "text": [
            "1/1 [==============================] - 0s 158ms/step\n",
            "[[140.14568]]\n"
          ]
        }
      ]
    }
  ]
}